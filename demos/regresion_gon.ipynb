{
 "cells": [
  {
   "cell_type": "code",
   "execution_count": 10,
   "metadata": {},
   "outputs": [
    {
     "data": {
      "application/javascript": [
       "IPython.OutputArea.auto_scroll_threshold = 9999;"
      ],
      "text/plain": [
       "<IPython.core.display.Javascript object>"
      ]
     },
     "metadata": {},
     "output_type": "display_data"
    }
   ],
   "source": [
    "%%javascript\n",
    "IPython.OutputArea.auto_scroll_threshold = 9999;"
   ]
  },
  {
   "cell_type": "code",
   "execution_count": 11,
   "metadata": {
    "collapsed": true
   },
   "outputs": [],
   "source": [
    "import numpy as np\n",
    "import tensorflow as tf\n",
    "import time\n",
    "\n",
    "import matplotlib.pyplot as plt\n",
    "%matplotlib inline \n",
    "\n",
    "from gpflow.likelihoods import Gaussian\n",
    "from gpflow.kernels import RBF, White\n",
    "from gpflow.mean_functions import Constant\n",
    "from gpflow.models.sgpr import SGPR, GPRFITC\n",
    "from gpflow.models.svgp import SVGP\n",
    "from gpflow.models.gpr import GPR\n",
    "from gpflow.training import AdamOptimizer, ScipyOptimizer\n",
    "\n",
    "from scipy.cluster.vq import kmeans2\n",
    "from scipy.stats import norm\n",
    "from scipy.special import logsumexp\n",
    "\n",
    "from doubly_stochastic_dgp.dgp import DGP"
   ]
  },
  {
   "cell_type": "code",
   "execution_count": 12,
   "metadata": {
    "collapsed": true
   },
   "outputs": [],
   "source": [
    "np.random.seed(5)\n",
    "# function\n",
    "func = 2\n",
    "# number of inducing points per layer\n",
    "M = 50\n",
    "notrain = 500\n",
    "notest = 200\n",
    "n_samples = 200\n",
    "S = n_samples\n",
    "def f1(x):\n",
    "    return (x-0.5)**3 + np.sin(5*x) + 0.01*np.random.randn(x.shape[0], 1)\n",
    "\n",
    "def f2(x):\n",
    "    return (x-0.5)**3 + np.sin(5*x) + 0.1*np.random.randn(x.shape[0], 1)\n",
    "\n",
    "def f3(x):\n",
    "    return np.sin(5*x) + 0.05*np.random.randn(x.shape[0], 1)\n",
    "\n",
    "def f4(x):\n",
    "    return x**3 + 0.05*np.random.randn(x.shape[0], 1)\n",
    "\n",
    "def f5(x):\n",
    "    y = x.copy()\n",
    "    y[y < 0.0] = 0.0\n",
    "    y[y > 0.0] = 1.0\n",
    "    return y + 0.05*np.random.randn(x.shape[0], 1)\n",
    "\n",
    "funcnames = {1: 'mixed_clean',\n",
    "             2: 'mixed_noisy',\n",
    "             3: 'sine',\n",
    "             4: 'cubic',\n",
    "             5: 'step'}\n",
    "\n",
    "X_train = np.reshape(np.linspace(-1, 1, notrain), (notrain, 1))\n",
    "X_test = np.reshape(np.linspace(-1, 1, notest), (notest, 1))\n",
    "X_plot = np.reshape(np.linspace(-1.5, 1.5, notest), (notest, 1))\n",
    "\n",
    "if func == 1:\n",
    "    y_train = f1(X_train)\n",
    "    y_test = f1(X_test)\n",
    "elif func == 2:\n",
    "    y_train = f2(X_train)\n",
    "    y_test = f2(X_test)\n",
    "elif func == 3:\n",
    "    y_train = f3(X_train)\n",
    "    y_test = f3(X_test)\n",
    "elif func == 4:\n",
    "    y_train = f4(X_train)\n",
    "    y_test = f4(X_test)\n",
    "elif func == 5:\n",
    "    y_train = f5(X_train)\n",
    "    y_test = f5(X_test)\n",
    "\n",
    "Y_std = np.std(y_test)"
   ]
  },
  {
   "cell_type": "code",
   "execution_count": 13,
   "metadata": {
    "collapsed": true
   },
   "outputs": [],
   "source": [
    "def make_dgp(X, Y, Z, L):\n",
    "    D = X.shape[1]\n",
    "    \n",
    "    # the layer shapes are defined by the kernel dims, so here all hidden layers are D dimensional \n",
    "    kernels = []\n",
    "    for l in range(L):\n",
    "        kernels.append(RBF(D))\n",
    "        \n",
    "    # between layer noise (doesn't actually make much difference but we include it anyway)\n",
    "    for kernel in kernels[:-1]:\n",
    "        kernel += White(D, variance=1e-5) \n",
    "        \n",
    "    mb = 1000 if X.shape[0] > 1000 else None \n",
    "    model = DGP(X, Y, Z, kernels, Gaussian(), num_samples=10, minibatch_size=mb)\n",
    "\n",
    "    # start the inner layers almost deterministically \n",
    "    for layer in model.layers[:-1]:\n",
    "        layer.q_sqrt = layer.q_sqrt.value * 1e-5\n",
    "    \n",
    "    return model\n",
    "\n",
    "Z_M = kmeans2(X_train, M, minit='points')[0]\n",
    "m_dgp2 = make_dgp(X_train, y_train, Z_M, 2)"
   ]
  },
  {
   "cell_type": "code",
   "execution_count": 14,
   "metadata": {
    "collapsed": true
   },
   "outputs": [],
   "source": [
    "def batch_assess(model, assess_model, X, Y):\n",
    "    n_batches = max(int(X.shape[0]/1000.), 1)\n",
    "    lik, sq_diff = [], []\n",
    "    for X_batch, Y_batch in zip(np.array_split(X, n_batches), np.array_split(Y, n_batches)):\n",
    "        l, sq = assess_model(model, X_batch, Y_batch)\n",
    "        lik.append(l)\n",
    "        sq_diff.append(sq)\n",
    "    lik = np.concatenate(lik, 0)\n",
    "    sq_diff = np.array(np.concatenate(sq_diff, 0), dtype=float)\n",
    "    return np.average(lik), np.average(sq_diff)**0.5\n",
    "\n",
    "def assess_single_layer(model, X_batch, Y_batch):\n",
    "    m, v = model.predict_y(X_batch)\n",
    "    lik = np.sum(norm.logpdf(Y_batch*Y_std, loc=m*Y_std, scale=Y_std*v**0.5),  1)\n",
    "    sq_diff = Y_std**2*((m - Y_batch)**2)\n",
    "    return lik, sq_diff \n",
    "\n",
    "\n",
    "def assess_sampled(model, X_batch, Y_batch):\n",
    "    m, v = model.predict_y(X_batch, S)\n",
    "    S_lik = np.sum(norm.logpdf(Y_batch*Y_std, loc=m*Y_std, scale=Y_std*v**0.5), 2)\n",
    "    lik = logsumexp(S_lik, 0, b=1/float(S))\n",
    "    \n",
    "    mean = np.average(m, 0)\n",
    "    sq_diff = Y_std**2*((mean - Y_batch)**2)\n",
    "    return lik, sq_diff"
   ]
  },
  {
   "cell_type": "code",
   "execution_count": 15,
   "metadata": {},
   "outputs": [],
   "source": [
    "AdamOptimizer(0.01).minimize(m_dgp2, maxiter=500)\n",
    "#lik, rmse = batch_assess(m_dgp2, assess_sampled, X_test, y_test)\n",
    "m, v = m_dgp2.predict_y(X_test, n_samples)\n",
    "lik = m_dgp2.predict_density(X_test, y_test, n_samples)\n",
    "rmse = np.sqrt(np.mean((m - y_test)**2))"
   ]
  },
  {
   "cell_type": "code",
   "execution_count": 16,
   "metadata": {},
   "outputs": [
    {
     "name": "stdout",
     "output_type": "stream",
     "text": [
      "Likelihood: 0.6412989491420877 rmse: 0.1245868354581215\n",
      "Likelihood2: 0.6021116802939641\n",
      "0.602060385314\n",
      "0.13101961837\n"
     ]
    }
   ],
   "source": [
    "print(\"Likelihood: {} rmse: {}\".format(lik, rmse))\n",
    "testll = np.mean(logsumexp(norm.logpdf(y_test, loc=m, scale = np.sqrt(v)), 0) - np.log(n_samples))\n",
    "print(\"Likelihood2: {} rmse2: {}\".format(testll, rmse))"
   ]
  },
  {
   "cell_type": "code",
   "execution_count": 17,
   "metadata": {},
   "outputs": [],
   "source": [
    "m, v = m_dgp2.predict_y(X_plot, n_samples)\n",
    "m = np.mean(m, axis=0)\n",
    "v = np.mean(v, axis=0)"
   ]
  },
  {
   "cell_type": "code",
   "execution_count": 18,
   "metadata": {},
   "outputs": [
    {
     "data": {
      "image/png": "[encoded data removed]",
      "text/plain": [
       "<matplotlib.figure.Figure at 0x7fec00b398d0>"
      ]
     },
     "metadata": {},
     "output_type": "display_data"
    }
   ],
   "source": [
    "plt.figure(figsize=(16, 15))\n",
    "plt.plot(X_train, y_train, 'bo', alpha=0.5)\n",
    "plt.plot(X_plot, m, 'm-')\n",
    "plt.plot(X_plot, m-2*np.sqrt(v), 'm--')\n",
    "plt.plot(X_plot, m+2*np.sqrt(v), 'm--')\n",
    "plt.xlabel('x')\n",
    "plt.ylabel('y')\n",
    "plt.show()"
   ]
  },
  {
   "cell_type": "code",
   "execution_count": null,
   "metadata": {
    "collapsed": true
   },
   "outputs": [],
   "source": []
  }
 ],
 "metadata": {
  "kernelspec": {
   "display_name": "Python 3",
   "language": "python",
   "name": "python3"
  },
  "language_info": {
   "codemirror_mode": {
    "name": "ipython",
    "version": 3
   },
   "file_extension": ".py",
   "mimetype": "text/x-python",
   "name": "python",
   "nbconvert_exporter": "python",
   "pygments_lexer": "ipython3",
   "version": "3.6.1"
  }
 },
 "nbformat": 4,
 "nbformat_minor": 2
}
